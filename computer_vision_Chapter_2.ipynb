{
 "cells": [
  {
   "cell_type": "code",
   "execution_count": 3,
   "id": "c81db6c1-439a-4ef4-b60e-cc1a91a72517",
   "metadata": {},
   "outputs": [],
   "source": [
    "import cv2\n",
    "import numpy as np"
   ]
  },
  {
   "cell_type": "code",
   "execution_count": null,
   "id": "68589ab8-55c7-4c5f-a2f7-7971e8a3b234",
   "metadata": {},
   "outputs": [],
   "source": [
    "img = cv2.imread(\"resources/avengers/theavengers1.jpg\")\n",
    "kernel = np.ones((5,5),np.uint8)\n",
    "\n",
    "imgGray = cv2.cvtColor(img, cv2.COLOR_BGR2GRAY)\n",
    "imgBlur = cv2.GaussianBlur(imgGray,(7,7),0)\n",
    "imgCanny = cv2.Canny(img,150,200)\n",
    "imgDialation = cv2.dilate(imgCanny,kernel,iterations=1)\n",
    "imgEroded = cv2.erode(imgDialation,kernel,iterations=1)\n",
    "\n",
    "cv2.imshow(\"gray image\", imgGray)\n",
    "cv2.imshow(\"blur image\", imgBlur)\n",
    "cv2.imshow(\"canny image\", imgCanny)\n",
    "cv2.imshow(\"dialation image\", imgDialation)\n",
    "cv2.imshow(\"eroded image\", imgEroded)\n",
    "cv2.waitKey(0)\n",
    "cv2.destroyAllWindows()"
   ]
  },
  {
   "cell_type": "code",
   "execution_count": null,
   "id": "111acd90-d07c-498b-a471-5824c1751ce9",
   "metadata": {},
   "outputs": [],
   "source": []
  },
  {
   "cell_type": "code",
   "execution_count": null,
   "id": "0d665d29-ee2d-4f2a-8c28-1ba3ca3eac47",
   "metadata": {},
   "outputs": [],
   "source": []
  }
 ],
 "metadata": {
  "kernelspec": {
   "display_name": "Python 3 (ipykernel)",
   "language": "python",
   "name": "python3"
  },
  "language_info": {
   "codemirror_mode": {
    "name": "ipython",
    "version": 3
   },
   "file_extension": ".py",
   "mimetype": "text/x-python",
   "name": "python",
   "nbconvert_exporter": "python",
   "pygments_lexer": "ipython3",
   "version": "3.12.4"
  }
 },
 "nbformat": 4,
 "nbformat_minor": 5
}

{
 "cells": [
  {
   "cell_type": "code",
   "execution_count": 3,
   "id": "97d72975-857b-4133-a819-4da22a4f9286",
   "metadata": {},
   "outputs": [],
   "source": [
    "import cv2\n",
    "import numpy as np"
   ]
  },
  {
   "cell_type": "code",
   "execution_count": null,
   "id": "63720730-0dbb-44b1-a496-f579bcafad61",
   "metadata": {},
   "outputs": [
    {
     "name": "stdout",
     "output_type": "stream",
     "text": [
      "(930, 1451, 3)\n",
      "(200, 300, 3)\n"
     ]
    }
   ],
   "source": [
    "img = cv2.imread(\"resources/avengers/theavengers1.jpg\")\n",
    "print(img.shape)\n",
    "\n",
    "imgResize = cv2.resize(img, (300,200))\n",
    "print(imgResize.shape)\n",
    "\n",
    "imgCropped = img[0:200,200:500]\n",
    "\n",
    "cv2.imshow(\"Image\",img)\n",
    "cv2.imshow(\"Image Resize\",imgResize)\n",
    "cv2.imshow(\"Image Cropped\",imgCropped)\n",
    "\n",
    "cv2.waitKey(0)\n"
   ]
  },
  {
   "cell_type": "code",
   "execution_count": null,
   "id": "1e58bbb6-8143-4ef2-99d5-9eab1dd93e44",
   "metadata": {},
   "outputs": [],
   "source": []
  }
 ],
 "metadata": {
  "kernelspec": {
   "display_name": "Python 3 (ipykernel)",
   "language": "python",
   "name": "python3"
  },
  "language_info": {
   "codemirror_mode": {
    "name": "ipython",
    "version": 3
   },
   "file_extension": ".py",
   "mimetype": "text/x-python",
   "name": "python",
   "nbconvert_exporter": "python",
   "pygments_lexer": "ipython3",
   "version": "3.12.4"
  }
 },
 "nbformat": 4,
 "nbformat_minor": 5
}

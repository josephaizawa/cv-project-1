{
 "cells": [
  {
   "cell_type": "code",
   "execution_count": 7,
   "id": "3d52be78-9df5-4d2d-bf48-da5af9a11fed",
   "metadata": {},
   "outputs": [],
   "source": [
    "from PIL import Image\n",
    "\n",
    "filename = \"resources/picture.jpg\"\n",
    "img = Image.open(filename)\n",
    "\n",
    "img.show()\n"
   ]
  },
  {
   "cell_type": "code",
   "execution_count": 19,
   "id": "d7807cfd-0787-41d4-a378-375f6d2dde72",
   "metadata": {},
   "outputs": [],
   "source": [
    "img = Image.new(\"RGB\", (400,500), (0,255,255))\n",
    "\n",
    "img.show()"
   ]
  },
  {
   "cell_type": "code",
   "execution_count": null,
   "id": "42ca5fd9-0377-4ad2-8948-56c613f53ac3",
   "metadata": {},
   "outputs": [],
   "source": []
  }
 ],
 "metadata": {
  "kernelspec": {
   "display_name": "Python 3 (ipykernel)",
   "language": "python",
   "name": "python3"
  },
  "language_info": {
   "codemirror_mode": {
    "name": "ipython",
    "version": 3
   },
   "file_extension": ".py",
   "mimetype": "text/x-python",
   "name": "python",
   "nbconvert_exporter": "python",
   "pygments_lexer": "ipython3",
   "version": "3.12.4"
  }
 },
 "nbformat": 4,
 "nbformat_minor": 5
}

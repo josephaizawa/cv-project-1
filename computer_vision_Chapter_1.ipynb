{
 "cells": [
  {
   "cell_type": "code",
   "execution_count": 1,
   "id": "b9bb60ea-9500-451f-a9c8-8b61c5793a9f",
   "metadata": {},
   "outputs": [
    {
     "name": "stdout",
     "output_type": "stream",
     "text": [
      "package imported\n"
     ]
    }
   ],
   "source": [
    "import cv2\n",
    "print(\"package imported\")"
   ]
  },
  {
   "cell_type": "code",
   "execution_count": 5,
   "id": "9117f281-8857-4aab-b46d-e53ef4b29c84",
   "metadata": {},
   "outputs": [],
   "source": [
    "img = cv2.imread(\"resources/avengers/theavengers1.jpg\")\n",
    "cv2.imshow(\"Output\", img)\n",
    "cv2.waitKey(1000)\n",
    "cv2.destroyAllWindows()\n"
   ]
  },
  {
   "cell_type": "code",
   "execution_count": 5,
   "id": "b7e720ef-ca01-40d3-be89-f3bceaaef54f",
   "metadata": {},
   "outputs": [],
   "source": [
    "cap = cv2.VideoCapture(\"resources/alpha_film_series_|_episode_04_how_can_i_have_faith? (Original).mp4\")\n",
    "\n",
    "while True:\n",
    "    success, img = cap.read()\n",
    "    cv2.imshow(\"video\", img)\n",
    "    if cv2.waitKey(1)& 0xFF ==ord('q'):\n",
    "        break"
   ]
  },
  {
   "cell_type": "code",
   "execution_count": null,
   "id": "afffd304-bcb2-4062-8a4b-049dadd5861a",
   "metadata": {},
   "outputs": [
    {
     "name": "stderr",
     "output_type": "stream",
     "text": [
      "2024-08-23 14:22:11.790 python[5748:188003] WARNING: AVCaptureDeviceTypeExternal is deprecated for Continuity Cameras. Please use AVCaptureDeviceTypeContinuityCamera and add NSCameraUseContinuityCameraDeviceType to your Info.plist.\n"
     ]
    }
   ],
   "source": [
    "cap = cv2.VideoCapture(0)\n",
    "cap.set(3,640)\n",
    "cap.set(4,480)\n",
    "\n",
    "while True:\n",
    "    success, img = cap.read()\n",
    "    cv2.imshow(\"video\", img)\n",
    "    if cv2.waitKey(1)& 0xFF ==ord('q'):\n",
    "        break"
   ]
  },
  {
   "cell_type": "code",
   "execution_count": null,
   "id": "828e75fa-795f-4309-9c3a-3ce6cf557f55",
   "metadata": {},
   "outputs": [],
   "source": []
  }
 ],
 "metadata": {
  "kernelspec": {
   "display_name": "Python 3 (ipykernel)",
   "language": "python",
   "name": "python3"
  },
  "language_info": {
   "codemirror_mode": {
    "name": "ipython",
    "version": 3
   },
   "file_extension": ".py",
   "mimetype": "text/x-python",
   "name": "python",
   "nbconvert_exporter": "python",
   "pygments_lexer": "ipython3",
   "version": "3.12.4"
  }
 },
 "nbformat": 4,
 "nbformat_minor": 5
}

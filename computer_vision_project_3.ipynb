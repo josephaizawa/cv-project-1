{
 "cells": [
  {
   "cell_type": "code",
   "execution_count": null,
   "id": "9b2fd964-e203-43df-bf92-e53fde96dd2b",
   "metadata": {},
   "outputs": [
    {
     "name": "stderr",
     "output_type": "stream",
     "text": [
      "2024-09-03 14:39:35.975 python[5177:174680] WARNING: AVCaptureDeviceTypeExternal is deprecated for Continuity Cameras. Please use AVCaptureDeviceTypeContinuityCamera and add NSCameraUseContinuityCameraDeviceType to your Info.plist.\n"
     ]
    },
    {
     "name": "stdout",
     "output_type": "stream",
     "text": [
      "Error: Failed to capture image or image is None.\n"
     ]
    }
   ],
   "source": [
    "# import cv2\n",
    "# import numpy as np\n",
    "\n",
    "\n",
    "# ################################\n",
    "# frameWidth = 640\n",
    "# frameHeight = 480\n",
    "# nPlateCascade= cv2.CascadeClassifier(\"resources/haarcascades/haarcascade_russian_plate_number.xml\")\n",
    "# minArea = 500\n",
    "# color = (255,0,255)\n",
    "# ################################\n",
    "\n",
    "\n",
    "# cap = cv2.VideoCapture(0)\n",
    "# cap.set(3, frameWidth)\n",
    "# cap.set(4, frameHeight)\n",
    "# cap.set(10, 150)\n",
    "\n",
    "\n",
    "\n",
    "# while True:\n",
    "#     success, img = cap.read()    \n",
    "#     imgGray = cv2.cvtColor(img,cv2.COLOR_BGR2GRAY)\n",
    "#     numberPlates = nPlateCascade.detectMultiScale(imgGray,1.1,4)\n",
    "\n",
    "#     for (x,y,w,h) in numberPlates:\n",
    "#         area = w*h\n",
    "#         if area > minArea:\n",
    "#             cv2.rectangle(img,(x,y),(x+w,y+h),(255,0,255),2)\n",
    "#             cv2.putText(img,\"Number Plate\",(x,y-5),cv2.FONT_HERSHEY_COMPLEX_SMALL,1,color,2)\n",
    "#             imgRoi = img[y:y+h,x:x+w]\n",
    "#             cv2.imshow(\"ROI\",imgRoi)\n",
    "\n",
    "\n",
    "    \n",
    "#     cv2.imshow(\"video\", img)\n",
    "#     if cv2.waitKey(1)& 0xFF ==ord('q'):\n",
    "#         break\n",
    "\n",
    "import cv2\n",
    "import numpy as np\n",
    "\n",
    "################################\n",
    "frameWidth = 640\n",
    "frameHeight = 480\n",
    "nPlateCascade = cv2.CascadeClassifier(\"resources/haarcascades/haarcascade_russian_plate_number.xml\")\n",
    "minArea = 500\n",
    "color = (255, 0, 255)\n",
    "################################\n",
    "\n",
    "cap = cv2.VideoCapture(0)\n",
    "if not cap.isOpened():\n",
    "    print(\"Error: Camera could not be opened.\")\n",
    "    exit()\n",
    "\n",
    "cap.set(3, frameWidth)\n",
    "cap.set(4, frameHeight)\n",
    "cap.set(10, 150)\n",
    "count =0\n",
    "\n",
    "while True:\n",
    "    success, img = cap.read()\n",
    "    if not success or img is None:\n",
    "        print(\"Error: Failed to capture image or image is None.\")\n",
    "        continue\n",
    "\n",
    "    try:\n",
    "        imgGray = cv2.cvtColor(img, cv2.COLOR_BGR2GRAY)\n",
    "    except cv2.error as e:\n",
    "        print(f\"OpenCV error: {e}\")\n",
    "        continue\n",
    "\n",
    "    numberPlates = nPlateCascade.detectMultiScale(imgGray, 1.1, 4)\n",
    "\n",
    "    for (x, y, w, h) in numberPlates:\n",
    "        area = w * h\n",
    "        if area > minArea:\n",
    "            cv2.rectangle(img, (x, y), (x + w, y + h), color, 2)\n",
    "            cv2.putText(img, \"Number Plate\", (x, y - 5), cv2.FONT_HERSHEY_COMPLEX_SMALL, 1, color, 2)\n",
    "            imgRoi = img[y:y + h, x:x + w]\n",
    "            cv2.imshow(\"ROI\", imgRoi)\n",
    "\n",
    "    cv2.imshow(\"video\", img)\n",
    "    if cv2.waitKey(1) & 0xFF == ord('s'):\n",
    "        cv2.imwrite(\"resources/NoPlate_\"+str(count)+\".jpg\",imgRoi)\n",
    "        cv2.rectangle(img,(0,200),(640,300),(0,255,0),cv2.FILLED)\n",
    "        cv2.putText(img,\"Scan Saved\", (150,265),cv2.FONT_HERSHEY_DUPLEX,2,(0,0,255),2)\n",
    "        cv2.waitKey(500)\n",
    "        count +=1\n",
    "\n",
    "cap.release()\n",
    "cv2.destroyAllWindows()\n"
   ]
  },
  {
   "cell_type": "code",
   "execution_count": null,
   "id": "7eee3ac0-ade3-4498-bd55-814b2f8b7c89",
   "metadata": {},
   "outputs": [],
   "source": []
  },
  {
   "cell_type": "code",
   "execution_count": null,
   "id": "c497ed74-f3ef-484d-9e74-fe2c0e21e0e8",
   "metadata": {},
   "outputs": [],
   "source": []
  }
 ],
 "metadata": {
  "kernelspec": {
   "display_name": "Python 3 (ipykernel)",
   "language": "python",
   "name": "python3"
  },
  "language_info": {
   "codemirror_mode": {
    "name": "ipython",
    "version": 3
   },
   "file_extension": ".py",
   "mimetype": "text/x-python",
   "name": "python",
   "nbconvert_exporter": "python",
   "pygments_lexer": "ipython3",
   "version": "3.12.4"
  }
 },
 "nbformat": 4,
 "nbformat_minor": 5
}
